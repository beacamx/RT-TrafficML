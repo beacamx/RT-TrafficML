{
  "nbformat": 4,
  "nbformat_minor": 0,
  "metadata": {
    "colab": {
      "provenance": [],
      "authorship_tag": "ABX9TyNXx/Xcv0F4L/ABRuA9H6e/",
      "include_colab_link": true
    },
    "kernelspec": {
      "name": "python3",
      "display_name": "Python 3"
    },
    "language_info": {
      "name": "python"
    }
  },
  "cells": [
    {
      "cell_type": "markdown",
      "metadata": {
        "id": "view-in-github",
        "colab_type": "text"
      },
      "source": [
        "<a href=\"https://colab.research.google.com/github/beacamx/RT-TrafficML/blob/main/Projeto.ipynb\" target=\"_parent\"><img src=\"https://colab.research.google.com/assets/colab-badge.svg\" alt=\"Open In Colab\"/></a>"
      ]
    },
    {
      "cell_type": "markdown",
      "source": [
        "# Sobre o projeto\n",
        "(qual é o tema)  \n",
        "(o que buscamos fazer na pesquisa)  \n",
        "(resultados esperados)  "
      ],
      "metadata": {
        "id": "vDI6dIylZr2J"
      }
    },
    {
      "cell_type": "markdown",
      "source": [
        "# Dados\n",
        "## Pesquisa inicial - Escolha de plataformas\n",
        "Primeiramente, foram pesquisados dados textuais sobre tráfego em tempo real em diferentes sites e redes sociais, como X (antigo Twitter), Instagram e Facebook. Após um levantamento inicial, uma comparação entre as diferentes tipos de plataformas foi realizada a fim de escolher inicialmente apenas um canal para extrair os dados textuais desejados. As conclusões obtidas foram as seguintes:  \n",
        "(adicionar uma tabela comparativa)  \n",
        "\n",
        "Dessa forma, optamos por utilizar dados advindos do X por serem mais confiáveis, conter menos erros ortográficos, ter uma maior concentração de dados de tráfego em tempo real e por serem menos multimodais em comparação aos demais.  \n",
        "\n",
        "## Seleção de perfis\n",
        "[..] Logo, o perfil escolhido inicialmente foi \"\".\n"
      ],
      "metadata": {
        "id": "kqJDCJ6laB-M"
      }
    },
    {
      "cell_type": "markdown",
      "source": [
        "# Tecnologias e ferramentas que serão utilizadas"
      ],
      "metadata": {
        "id": "3NVdN5gKajgv"
      }
    }
  ]
}